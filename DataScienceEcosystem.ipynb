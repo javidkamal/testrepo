{
 "cells": [
  {
   "cell_type": "markdown",
   "id": "3a12744a-a42f-4932-af81-030138ad6621",
   "metadata": {
    "tags": []
   },
   "source": [
    "# Data Science Tools and Ecosystem"
   ]
  },
  {
   "cell_type": "markdown",
   "id": "d4fd7baf-695c-4d83-9aa4-68fa7326cc66",
   "metadata": {},
   "source": [
    "## In this notebook, Data Science Tools and Ecosystem are summarized.\n"
   ]
  },
  {
   "cell_type": "markdown",
   "id": "386a963d-8bd3-4693-9430-7dc98395ae37",
   "metadata": {},
   "source": [
    "**Objectives:**\n",
    " - List popular languages for Data Science\n",
    " - List common libraries for Data Science\n",
    " - List common data Science tools"
   ]
  },
  {
   "cell_type": "markdown",
   "id": "9d4a848c-8c2f-4560-8705-188d2dbc2bc9",
   "metadata": {},
   "source": [
    "## Some of the popular languages that Data Scientists use are:\n",
    "1. Python\n",
    "2. R\n",
    "3. Julia"
   ]
  },
  {
   "cell_type": "markdown",
   "id": "7b1bf958-ef90-4950-8789-3ea2ead5724d",
   "metadata": {},
   "source": [
    "## Some of the commonly used libraries used by Data Scientists include:\n",
    "1. Pandas\n",
    "2. Scipy\n",
    "3. Matplotlib\n",
    "\n"
   ]
  },
  {
   "cell_type": "markdown",
   "id": "337d6c72-2f9b-4cb7-ad53-0f5062009292",
   "metadata": {},
   "source": [
    "|Data Science Tools (Environments)|\n",
    "|-----------------|\n",
    "|RStudio|\n",
    "|WatsonStudio|\n",
    "|Jupyterlab|"
   ]
  },
  {
   "cell_type": "markdown",
   "id": "9a63f445-fb60-444d-b001-8d5b8528b176",
   "metadata": {},
   "source": [
    "|Data Science Tools (Libraries)|\n",
    "|-----------------|\n",
    "|Scikitlearn|\n",
    "|Hadoop|\n",
    "|Matplotlib|"
   ]
  },
  {
   "cell_type": "markdown",
   "id": "8ca07912-799f-4610-b412-fb0fcf74dd96",
   "metadata": {},
   "source": [
    "### Below are a few examples of evaluating arithmetic expressions in Python.\n"
   ]
  },
  {
   "cell_type": "code",
   "execution_count": 2,
   "id": "ed3c72fd-32ef-4eb1-8010-7cac64565ea6",
   "metadata": {},
   "outputs": [
    {
     "data": {
      "text/plain": [
       "17"
      ]
     },
     "execution_count": 2,
     "metadata": {},
     "output_type": "execute_result"
    }
   ],
   "source": [
    "# This a simple arithmetic expression to mutiply then add integers\n",
    "(3*4)+5"
   ]
  },
  {
   "cell_type": "code",
   "execution_count": 3,
   "id": "6fd83724-3e8b-46b7-9ae6-f7d69b1c37a5",
   "metadata": {},
   "outputs": [
    {
     "data": {
      "text/plain": [
       "3.3333333333333335"
      ]
     },
     "execution_count": 3,
     "metadata": {},
     "output_type": "execute_result"
    }
   ],
   "source": [
    "# This will convert 200 minutes to hours by dividing by 60\n",
    "200/60"
   ]
  },
  {
   "cell_type": "markdown",
   "id": "37c47e7c-bb63-47b9-b74c-62e9ab180d71",
   "metadata": {},
   "source": [
    "## Author \n",
    "   Javid"
   ]
  },
  {
   "cell_type": "code",
   "execution_count": null,
   "id": "96a2e521-ce22-453b-81e3-b3db7beb336b",
   "metadata": {},
   "outputs": [],
   "source": []
  }
 ],
 "metadata": {
  "kernelspec": {
   "display_name": "anaconda-2022.05-py39",
   "language": "python",
   "name": "conda-env-anaconda-2022.05-py39-py"
  },
  "language_info": {
   "codemirror_mode": {
    "name": "ipython",
    "version": 3
   },
   "file_extension": ".py",
   "mimetype": "text/x-python",
   "name": "python",
   "nbconvert_exporter": "python",
   "pygments_lexer": "ipython3",
   "version": "3.9.12"
  }
 },
 "nbformat": 4,
 "nbformat_minor": 5
}
